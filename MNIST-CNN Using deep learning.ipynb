{
 "cells": [
  {
   "cell_type": "code",
   "execution_count": 1,
   "id": "ebef211e",
   "metadata": {
    "_cell_guid": "b1076dfc-b9ad-4769-8c92-a6c4dae69d19",
    "_uuid": "8f2839f25d086af736a60e9eeb907d3b93b6e0e5",
    "execution": {
     "iopub.execute_input": "2023-09-17T06:46:46.855428Z",
     "iopub.status.busy": "2023-09-17T06:46:46.855065Z",
     "iopub.status.idle": "2023-09-17T06:46:47.274633Z",
     "shell.execute_reply": "2023-09-17T06:46:47.273634Z"
    },
    "papermill": {
     "duration": 0.431292,
     "end_time": "2023-09-17T06:46:47.277440",
     "exception": false,
     "start_time": "2023-09-17T06:46:46.846148",
     "status": "completed"
    },
    "tags": []
   },
   "outputs": [],
   "source": [
    "# This Python 3 environment comes with many helpful analytics libraries installed\n",
    "# It is defined by the kaggle/python Docker image: https://github.com/kaggle/docker-python\n",
    "# For example, here's several helpful packages to load\n",
    "\n",
    "import numpy as np # linear algebra\n",
    "import pandas as pd # data processing, CSV file I/O (e.g. pd.read_csv)\n",
    "\n",
    "# Input data files are available in the read-only \"../input/\" directory\n",
    "# For example, running this (by clicking run or pressing Shift+Enter) will list all files under the input directory\n",
    "\n",
    "import os\n",
    "for dirname, _, filenames in os.walk('/kaggle/input'):\n",
    "    for filename in filenames:\n",
    "        print(os.path.join(dirname, filename))\n",
    "\n",
    "# You can write up to 20GB to the current directory (/kaggle/working/) that gets preserved as output when you create a version using \"Save & Run All\" \n",
    "# You can also write temporary files to /kaggle/temp/, but they won't be saved outside of the current session"
   ]
  },
  {
   "cell_type": "code",
   "execution_count": 2,
   "id": "9e077a2e",
   "metadata": {
    "execution": {
     "iopub.execute_input": "2023-09-17T06:46:47.295255Z",
     "iopub.status.busy": "2023-09-17T06:46:47.294705Z",
     "iopub.status.idle": "2023-09-17T06:46:56.084766Z",
     "shell.execute_reply": "2023-09-17T06:46:56.083551Z"
    },
    "papermill": {
     "duration": 8.801597,
     "end_time": "2023-09-17T06:46:56.087788",
     "exception": false,
     "start_time": "2023-09-17T06:46:47.286191",
     "status": "completed"
    },
    "tags": []
   },
   "outputs": [],
   "source": [
    "import numpy as np\n",
    "import tensorflow as tf\n",
    "\n",
    "from tensorflow import keras\n",
    "\n",
    "from tensorflow.keras import layers\n",
    "from keras.models import Sequential"
   ]
  },
  {
   "cell_type": "code",
   "execution_count": 3,
   "id": "8a0b6635",
   "metadata": {
    "execution": {
     "iopub.execute_input": "2023-09-17T06:46:56.103676Z",
     "iopub.status.busy": "2023-09-17T06:46:56.102980Z",
     "iopub.status.idle": "2023-09-17T06:46:58.516622Z",
     "shell.execute_reply": "2023-09-17T06:46:58.515420Z"
    },
    "papermill": {
     "duration": 2.425039,
     "end_time": "2023-09-17T06:46:58.519717",
     "exception": false,
     "start_time": "2023-09-17T06:46:56.094678",
     "status": "completed"
    },
    "tags": []
   },
   "outputs": [
    {
     "name": "stdout",
     "output_type": "stream",
     "text": [
      "Downloading data from https://storage.googleapis.com/tensorflow/tf-keras-datasets/mnist.npz\n",
      "11490434/11490434 [==============================] - 1s 0us/step\n"
     ]
    }
   ],
   "source": [
    "# load the data and split it between train and test sets\n",
    "(x_train,y_train),(x_test,y_test)=keras.datasets.mnist.load_data()\n",
    "# model/data parameters\n",
    "num_classes=10\n",
    "input_shape=(28,28,1)"
   ]
  },
  {
   "cell_type": "code",
   "execution_count": 4,
   "id": "86fe70ab",
   "metadata": {
    "execution": {
     "iopub.execute_input": "2023-09-17T06:46:58.539496Z",
     "iopub.status.busy": "2023-09-17T06:46:58.539028Z",
     "iopub.status.idle": "2023-09-17T06:46:58.547649Z",
     "shell.execute_reply": "2023-09-17T06:46:58.546431Z"
    },
    "papermill": {
     "duration": 0.021697,
     "end_time": "2023-09-17T06:46:58.550308",
     "exception": false,
     "start_time": "2023-09-17T06:46:58.528611",
     "status": "completed"
    },
    "tags": []
   },
   "outputs": [
    {
     "data": {
      "text/plain": [
       "((60000, 28, 28), (10000, 28, 28), (60000,))"
      ]
     },
     "execution_count": 4,
     "metadata": {},
     "output_type": "execute_result"
    }
   ],
   "source": [
    "x_train.shape,x_test.shape,y_train.shape"
   ]
  },
  {
   "cell_type": "code",
   "execution_count": 5,
   "id": "31077601",
   "metadata": {
    "execution": {
     "iopub.execute_input": "2023-09-17T06:46:58.570138Z",
     "iopub.status.busy": "2023-09-17T06:46:58.569704Z",
     "iopub.status.idle": "2023-09-17T06:46:58.578007Z",
     "shell.execute_reply": "2023-09-17T06:46:58.576755Z"
    },
    "papermill": {
     "duration": 0.021007,
     "end_time": "2023-09-17T06:46:58.580360",
     "exception": false,
     "start_time": "2023-09-17T06:46:58.559353",
     "status": "completed"
    },
    "tags": []
   },
   "outputs": [
    {
     "data": {
      "text/plain": [
       "5"
      ]
     },
     "execution_count": 5,
     "metadata": {},
     "output_type": "execute_result"
    }
   ],
   "source": [
    "y_train[0]"
   ]
  },
  {
   "cell_type": "markdown",
   "id": "04588b91",
   "metadata": {
    "papermill": {
     "duration": 0.008809,
     "end_time": "2023-09-17T06:46:58.598370",
     "exception": false,
     "start_time": "2023-09-17T06:46:58.589561",
     "status": "completed"
    },
    "tags": []
   },
   "source": [
    "# data processing /data processing"
   ]
  },
  {
   "cell_type": "code",
   "execution_count": 6,
   "id": "5c4faa23",
   "metadata": {
    "execution": {
     "iopub.execute_input": "2023-09-17T06:46:58.618330Z",
     "iopub.status.busy": "2023-09-17T06:46:58.617910Z",
     "iopub.status.idle": "2023-09-17T06:46:58.726354Z",
     "shell.execute_reply": "2023-09-17T06:46:58.724992Z"
    },
    "papermill": {
     "duration": 0.121946,
     "end_time": "2023-09-17T06:46:58.729389",
     "exception": false,
     "start_time": "2023-09-17T06:46:58.607443",
     "status": "completed"
    },
    "tags": []
   },
   "outputs": [],
   "source": [
    "# scale images to the [0,1] range\n",
    "x_train = x_train.astype(\"float32\") / 255\n",
    "x_test = x_test.astype(\"float32\") / 255\n",
    "# make sure images have shape(28,28,1)"
   ]
  },
  {
   "cell_type": "code",
   "execution_count": 7,
   "id": "4bed09e6",
   "metadata": {
    "execution": {
     "iopub.execute_input": "2023-09-17T06:46:58.749487Z",
     "iopub.status.busy": "2023-09-17T06:46:58.749071Z",
     "iopub.status.idle": "2023-09-17T06:46:58.756142Z",
     "shell.execute_reply": "2023-09-17T06:46:58.754981Z"
    },
    "papermill": {
     "duration": 0.020114,
     "end_time": "2023-09-17T06:46:58.758721",
     "exception": false,
     "start_time": "2023-09-17T06:46:58.738607",
     "status": "completed"
    },
    "tags": []
   },
   "outputs": [
    {
     "data": {
      "text/plain": [
       "(60000, 28, 28)"
      ]
     },
     "execution_count": 7,
     "metadata": {},
     "output_type": "execute_result"
    }
   ],
   "source": [
    "x_train.shape"
   ]
  },
  {
   "cell_type": "code",
   "execution_count": 8,
   "id": "b96e4296",
   "metadata": {
    "execution": {
     "iopub.execute_input": "2023-09-17T06:46:58.779708Z",
     "iopub.status.busy": "2023-09-17T06:46:58.778722Z",
     "iopub.status.idle": "2023-09-17T06:46:58.785746Z",
     "shell.execute_reply": "2023-09-17T06:46:58.784918Z"
    },
    "papermill": {
     "duration": 0.020281,
     "end_time": "2023-09-17T06:46:58.788306",
     "exception": false,
     "start_time": "2023-09-17T06:46:58.768025",
     "status": "completed"
    },
    "tags": []
   },
   "outputs": [],
   "source": [
    "# make sure images have shape(28,28,1)\n",
    "x_train = np.expand_dims(x_train,-1)\n",
    "x_test = np.expand_dims(x_test,-1)"
   ]
  },
  {
   "cell_type": "code",
   "execution_count": 9,
   "id": "ae5ebe64",
   "metadata": {
    "execution": {
     "iopub.execute_input": "2023-09-17T06:46:58.809151Z",
     "iopub.status.busy": "2023-09-17T06:46:58.808717Z",
     "iopub.status.idle": "2023-09-17T06:46:58.816658Z",
     "shell.execute_reply": "2023-09-17T06:46:58.815368Z"
    },
    "papermill": {
     "duration": 0.021733,
     "end_time": "2023-09-17T06:46:58.819260",
     "exception": false,
     "start_time": "2023-09-17T06:46:58.797527",
     "status": "completed"
    },
    "tags": []
   },
   "outputs": [
    {
     "data": {
      "text/plain": [
       "(60000, 28, 28, 1)"
      ]
     },
     "execution_count": 9,
     "metadata": {},
     "output_type": "execute_result"
    }
   ],
   "source": [
    "x_train.shape"
   ]
  },
  {
   "cell_type": "code",
   "execution_count": 10,
   "id": "25f7d448",
   "metadata": {
    "execution": {
     "iopub.execute_input": "2023-09-17T06:46:58.840017Z",
     "iopub.status.busy": "2023-09-17T06:46:58.839602Z",
     "iopub.status.idle": "2023-09-17T06:46:58.845983Z",
     "shell.execute_reply": "2023-09-17T06:46:58.844652Z"
    },
    "papermill": {
     "duration": 0.019863,
     "end_time": "2023-09-17T06:46:58.848714",
     "exception": false,
     "start_time": "2023-09-17T06:46:58.828851",
     "status": "completed"
    },
    "tags": []
   },
   "outputs": [
    {
     "name": "stdout",
     "output_type": "stream",
     "text": [
      "x_train shape: (60000, 28, 28, 1)\n",
      "x_train shape[0] train samples\n",
      "x_test shape[0] test samples\n"
     ]
    }
   ],
   "source": [
    "print(\"x_train shape:\", x_train.shape)\n",
    "print(\"x_train shape[0]\", \"train samples\")\n",
    "print(\"x_test shape[0]\",\"test samples\")"
   ]
  },
  {
   "cell_type": "code",
   "execution_count": 11,
   "id": "4e65f6df",
   "metadata": {
    "execution": {
     "iopub.execute_input": "2023-09-17T06:46:58.870064Z",
     "iopub.status.busy": "2023-09-17T06:46:58.869132Z",
     "iopub.status.idle": "2023-09-17T06:46:58.877753Z",
     "shell.execute_reply": "2023-09-17T06:46:58.876825Z"
    },
    "papermill": {
     "duration": 0.0221,
     "end_time": "2023-09-17T06:46:58.880419",
     "exception": false,
     "start_time": "2023-09-17T06:46:58.858319",
     "status": "completed"
    },
    "tags": []
   },
   "outputs": [],
   "source": [
    "# convert the class vectors to binary class matrices\n",
    "y_train = keras.utils.to_categorical(y_train,num_classes)\n",
    "y_test = keras.utils.to_categorical(y_test,num_classes)"
   ]
  },
  {
   "cell_type": "code",
   "execution_count": 12,
   "id": "c7371ccb",
   "metadata": {
    "execution": {
     "iopub.execute_input": "2023-09-17T06:46:58.901818Z",
     "iopub.status.busy": "2023-09-17T06:46:58.901404Z",
     "iopub.status.idle": "2023-09-17T06:46:58.909230Z",
     "shell.execute_reply": "2023-09-17T06:46:58.908119Z"
    },
    "papermill": {
     "duration": 0.021477,
     "end_time": "2023-09-17T06:46:58.911596",
     "exception": false,
     "start_time": "2023-09-17T06:46:58.890119",
     "status": "completed"
    },
    "tags": []
   },
   "outputs": [
    {
     "data": {
      "text/plain": [
       "array([0., 0., 0., 0., 0., 1., 0., 0., 0., 0.], dtype=float32)"
      ]
     },
     "execution_count": 12,
     "metadata": {},
     "output_type": "execute_result"
    }
   ],
   "source": [
    "y_train[0]"
   ]
  },
  {
   "cell_type": "markdown",
   "id": "c3427c4a",
   "metadata": {
    "papermill": {
     "duration": 0.009675,
     "end_time": "2023-09-17T06:46:58.931128",
     "exception": false,
     "start_time": "2023-09-17T06:46:58.921453",
     "status": "completed"
    },
    "tags": []
   },
   "source": [
    "# sequential model -development"
   ]
  },
  {
   "cell_type": "code",
   "execution_count": 13,
   "id": "1b26de6a",
   "metadata": {
    "execution": {
     "iopub.execute_input": "2023-09-17T06:46:58.952701Z",
     "iopub.status.busy": "2023-09-17T06:46:58.952288Z",
     "iopub.status.idle": "2023-09-17T06:46:59.195032Z",
     "shell.execute_reply": "2023-09-17T06:46:59.193918Z"
    },
    "papermill": {
     "duration": 0.256861,
     "end_time": "2023-09-17T06:46:59.197927",
     "exception": false,
     "start_time": "2023-09-17T06:46:58.941066",
     "status": "completed"
    },
    "tags": []
   },
   "outputs": [],
   "source": [
    "model = keras.Sequential(\n",
    "[\n",
    "    keras.Input(shape=input_shape),\n",
    "    layers.Conv2D(10, kernel_size=(5,5), activation=\"relu\"),\n",
    "    layers.MaxPooling2D(pool_size=(2,2)),\n",
    "    layers.Conv2D(20, kernel_size=(5,5), activation=\"relu\"),\n",
    "    layers.MaxPooling2D(pool_size=(2,2)),\n",
    "    layers.Dropout(0.25),\n",
    "    layers.Flatten(),\n",
    "    layers.Dense(50,activation=\"relu\"),\n",
    "    layers.Dense(10,activation=\"relu\"),\n",
    "    layers.Dense(num_classes,activation=\"softmax\")\n",
    "]\n",
    ")"
   ]
  },
  {
   "cell_type": "code",
   "execution_count": 14,
   "id": "9c30bfcc",
   "metadata": {
    "execution": {
     "iopub.execute_input": "2023-09-17T06:46:59.219408Z",
     "iopub.status.busy": "2023-09-17T06:46:59.218539Z",
     "iopub.status.idle": "2023-09-17T06:46:59.254700Z",
     "shell.execute_reply": "2023-09-17T06:46:59.253366Z"
    },
    "papermill": {
     "duration": 0.056142,
     "end_time": "2023-09-17T06:46:59.263740",
     "exception": false,
     "start_time": "2023-09-17T06:46:59.207598",
     "status": "completed"
    },
    "tags": []
   },
   "outputs": [
    {
     "name": "stdout",
     "output_type": "stream",
     "text": [
      "Model: \"sequential\"\n",
      "_________________________________________________________________\n",
      " Layer (type)                Output Shape              Param #   \n",
      "=================================================================\n",
      " conv2d (Conv2D)             (None, 24, 24, 10)        260       \n",
      "                                                                 \n",
      " max_pooling2d (MaxPooling2D  (None, 12, 12, 10)       0         \n",
      " )                                                               \n",
      "                                                                 \n",
      " conv2d_1 (Conv2D)           (None, 8, 8, 20)          5020      \n",
      "                                                                 \n",
      " max_pooling2d_1 (MaxPooling  (None, 4, 4, 20)         0         \n",
      " 2D)                                                             \n",
      "                                                                 \n",
      " dropout (Dropout)           (None, 4, 4, 20)          0         \n",
      "                                                                 \n",
      " flatten (Flatten)           (None, 320)               0         \n",
      "                                                                 \n",
      " dense (Dense)               (None, 50)                16050     \n",
      "                                                                 \n",
      " dense_1 (Dense)             (None, 10)                510       \n",
      "                                                                 \n",
      " dense_2 (Dense)             (None, 10)                110       \n",
      "                                                                 \n",
      "=================================================================\n",
      "Total params: 21,950\n",
      "Trainable params: 21,950\n",
      "Non-trainable params: 0\n",
      "_________________________________________________________________\n"
     ]
    }
   ],
   "source": [
    "model.summary()"
   ]
  },
  {
   "cell_type": "markdown",
   "id": "641c941f",
   "metadata": {
    "papermill": {
     "duration": 0.011751,
     "end_time": "2023-09-17T06:46:59.287859",
     "exception": false,
     "start_time": "2023-09-17T06:46:59.276108",
     "status": "completed"
    },
    "tags": []
   },
   "source": [
    "# compile/build & execute"
   ]
  },
  {
   "cell_type": "code",
   "execution_count": 15,
   "id": "453fc28e",
   "metadata": {
    "execution": {
     "iopub.execute_input": "2023-09-17T06:46:59.314130Z",
     "iopub.status.busy": "2023-09-17T06:46:59.313646Z",
     "iopub.status.idle": "2023-09-17T06:48:16.894749Z",
     "shell.execute_reply": "2023-09-17T06:48:16.893665Z"
    },
    "papermill": {
     "duration": 77.597371,
     "end_time": "2023-09-17T06:48:16.897428",
     "exception": false,
     "start_time": "2023-09-17T06:46:59.300057",
     "status": "completed"
    },
    "tags": []
   },
   "outputs": [
    {
     "name": "stdout",
     "output_type": "stream",
     "text": [
      "Epoch 1/5\n",
      "422/422 [==============================] - 17s 37ms/step - loss: 0.5637 - accuracy: 0.8081 - val_loss: 0.0969 - val_accuracy: 0.9747\n",
      "Epoch 2/5\n",
      "422/422 [==============================] - 15s 35ms/step - loss: 0.1338 - accuracy: 0.9601 - val_loss: 0.0647 - val_accuracy: 0.9798\n",
      "Epoch 3/5\n",
      "422/422 [==============================] - 15s 36ms/step - loss: 0.0944 - accuracy: 0.9706 - val_loss: 0.0500 - val_accuracy: 0.9853\n",
      "Epoch 4/5\n",
      "422/422 [==============================] - 15s 35ms/step - loss: 0.0756 - accuracy: 0.9760 - val_loss: 0.0458 - val_accuracy: 0.9863\n",
      "Epoch 5/5\n",
      "422/422 [==============================] - 15s 36ms/step - loss: 0.0659 - accuracy: 0.9800 - val_loss: 0.0390 - val_accuracy: 0.9882\n"
     ]
    },
    {
     "data": {
      "text/plain": [
       "<keras.callbacks.History at 0x7f6ba25d6800>"
      ]
     },
     "execution_count": 15,
     "metadata": {},
     "output_type": "execute_result"
    }
   ],
   "source": [
    "batch_size = 128\n",
    "epochs = 5\n",
    "\n",
    "model.compile(loss=\"categorical_crossentropy\",optimizer=\"adam\",metrics=[\"accuracy\"])\n",
    "\n",
    "model.fit(x_train,y_train,batch_size=batch_size,epochs=epochs,validation_split=0.1)"
   ]
  },
  {
   "cell_type": "markdown",
   "id": "700382d1",
   "metadata": {
    "papermill": {
     "duration": 0.107359,
     "end_time": "2023-09-17T06:48:17.179504",
     "exception": false,
     "start_time": "2023-09-17T06:48:17.072145",
     "status": "completed"
    },
    "tags": []
   },
   "source": [
    "# Model evaluation"
   ]
  },
  {
   "cell_type": "code",
   "execution_count": 16,
   "id": "96dad39d",
   "metadata": {
    "execution": {
     "iopub.execute_input": "2023-09-17T06:48:17.397852Z",
     "iopub.status.busy": "2023-09-17T06:48:17.397157Z",
     "iopub.status.idle": "2023-09-17T06:48:18.872170Z",
     "shell.execute_reply": "2023-09-17T06:48:18.870982Z"
    },
    "papermill": {
     "duration": 1.587046,
     "end_time": "2023-09-17T06:48:18.874808",
     "exception": false,
     "start_time": "2023-09-17T06:48:17.287762",
     "status": "completed"
    },
    "tags": []
   },
   "outputs": [
    {
     "name": "stdout",
     "output_type": "stream",
     "text": [
      "Test loss: 0.038099076598882675\n",
      "Test Accuracy 0.9873999953269958\n"
     ]
    }
   ],
   "source": [
    "score=model.evaluate(x_test,y_test,verbose=0)\n",
    "print(\"Test loss:\",score[0])\n",
    "print(\"Test Accuracy\",score[1])"
   ]
  }
 ],
 "metadata": {
  "kernelspec": {
   "display_name": "Python 3",
   "language": "python",
   "name": "python3"
  },
  "language_info": {
   "codemirror_mode": {
    "name": "ipython",
    "version": 3
   },
   "file_extension": ".py",
   "mimetype": "text/x-python",
   "name": "python",
   "nbconvert_exporter": "python",
   "pygments_lexer": "ipython3",
   "version": "3.10.12"
  },
  "papermill": {
   "default_parameters": {},
   "duration": 97.331776,
   "end_time": "2023-09-17T06:48:20.609325",
   "environment_variables": {},
   "exception": null,
   "input_path": "__notebook__.ipynb",
   "output_path": "__notebook__.ipynb",
   "parameters": {},
   "start_time": "2023-09-17T06:46:43.277549",
   "version": "2.4.0"
  }
 },
 "nbformat": 4,
 "nbformat_minor": 5
}
